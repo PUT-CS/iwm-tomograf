{
 "cells": [
  {
   "cell_type": "markdown",
   "id": "9162dd08-b256-4010-9c6e-d775af50cc57",
   "metadata": {
    "jp-MarkdownHeadingCollapsed": true
   },
   "source": [
    "W pierwszym kroku należy załadować obraz, zmienić go na grayscale, a potem zapisac do macierzy żeby zaczać wykonywać na nim operacje, oraz zaimportować wszystkie potrzebne biblioteki."
   ]
  },
  {
   "cell_type": "code",
   "execution_count": null,
   "id": "758b0c38-da3f-41a7-ad4a-d8b34163057b",
   "metadata": {},
   "outputs": [],
   "source": [
    "from helpers import *\n",
    "import matplotlib.pyplot as plt"
   ]
  },
  {
   "cell_type": "code",
   "execution_count": null,
   "id": "c4954133-643d-4028-bded-7fae5825ef58",
   "metadata": {},
   "outputs": [],
   "source": [
    "imgMatrix = load_image(\"img/Kropka.jpg\")"
   ]
  },
  {
   "cell_type": "markdown",
   "id": "e5ae0309-4d1b-47a4-bdf2-e7d658918a20",
   "metadata": {},
   "source": [
    "Następny etap to sinogram.\n",
    "W następnym bloku będą też ustalane stałe detektorów."
   ]
  },
  {
   "cell_type": "code",
   "execution_count": null,
   "id": "482038c1-8170-4f54-90dc-31879a540d82",
   "metadata": {},
   "outputs": [],
   "source": [
    "alpha = 2\n",
    "phi_range = 90\n",
    "num_detectors = 180\n",
    "num_iterations = 90"
   ]
  },
  {
   "cell_type": "markdown",
   "id": "63ef7b2a-04d6-481e-b0c4-1ba22202aa2f",
   "metadata": {},
   "source": [
    "Transformata Radona."
   ]
  },
  {
   "cell_type": "code",
   "execution_count": null,
   "id": "afe2d5e7-f152-4d32-856d-2e900a0ab654",
   "metadata": {},
   "outputs": [],
   "source": [
    "whole_sinogram = radon_transform(imgMatrix, alpha, phi_range, num_detectors, num_iterations)\n",
    "plt.matshow(whole_sinogram, cmap=plt.cm.gray)\n",
    "plt.show()"
   ]
  },
  {
   "cell_type": "markdown",
   "id": "26772eee-9484-46fe-b1cd-1bea939e039c",
   "metadata": {},
   "source": [
    "Poszczególne iteracje transformaty."
   ]
  },
  {
   "cell_type": "code",
   "execution_count": null,
   "id": "a3693779-154e-41fa-9ed3-70740bb11ccb",
   "metadata": {},
   "outputs": [],
   "source": [
    "import ipywidgets as widgets\n",
    "from IPython.display import display, clear_output\n",
    "\n",
    "int_range_sinogram = widgets.IntSlider(min=1, max=num_iterations)\n",
    "output1 = widgets.Output()\n",
    "display(int_range_sinogram, output1)\n",
    "\n",
    "def on_value_change_sinogram(change):\n",
    "    with output1:\n",
    "        sinogram = radon_transform(imgMatrix, alpha, phi_range, num_detectors, num_iterations=change['new'])\n",
    "        clear_output(wait=True)\n",
    "        plt.matshow(sinogram, cmap=plt.cm.gray)\n",
    "        plt.show()\n",
    "\n",
    "int_range_sinogram.observe(on_value_change_sinogram, names='value')"
   ]
  },
  {
   "cell_type": "markdown",
   "id": "d6bc953f-6001-4741-92f9-96b9da9e8b94",
   "metadata": {},
   "source": [
    "Rekonstrukcja obrazu (backprojection)."
   ]
  },
  {
   "cell_type": "code",
   "execution_count": null,
   "id": "e31e70e0-4bfd-4d6a-9122-48695860eafe",
   "metadata": {},
   "outputs": [],
   "source": [
    "whole_reconstruction = backprojection(imgMatrix, whole_sinogram, alpha, phi_range, num_detectors, num_iterations)\n",
    "plt.matshow(whole_reconstruction, cmap=plt.cm.gray)\n",
    "plt.show()"
   ]
  },
  {
   "cell_type": "markdown",
   "id": "13b44674-05f7-40b4-a61e-680c0aface29",
   "metadata": {},
   "source": [
    "Poszczególne iteracje backprojection."
   ]
  },
  {
   "cell_type": "code",
   "execution_count": null,
   "id": "7573d4f4-cd9a-4656-a764-327ef9dd7e37",
   "metadata": {},
   "outputs": [],
   "source": [
    "import ipywidgets as widgets\n",
    "from IPython.display import display, clear_output\n",
    "\n",
    "int_range_backprojection = widgets.IntSlider(min=1, max=num_iterations)\n",
    "output2 = widgets.Output()\n",
    "display(int_range_backprojection, output2)\n",
    "\n",
    "def on_value_change_backprojection(change):\n",
    "    with output2:\n",
    "        recounstruction = backprojection(imgMatrix, whole_sinogram, alpha, phi_range, num_detectors, num_iterations=change['new'])\n",
    "        clear_output(wait=True)\n",
    "        plt.matshow(recounstruction, cmap=plt.cm.gray)\n",
    "        plt.show()\n",
    "\n",
    "int_range_backprojection.observe(on_value_change_backprojection, names='value')"
   ]
  },
  {
   "cell_type": "markdown",
   "id": "39559219-3ec2-4077-9111-aa3cc62b75c1",
   "metadata": {},
   "source": [
    "Zapis do pliku dicom oraz wpisanie podstawowych danych pacjenta jak i ścieżki gdzie zapisać plik."
   ]
  },
  {
   "cell_type": "code",
   "execution_count": null,
   "id": "92791015-a0fa-4f92-a31f-4295b4a2efd2",
   "metadata": {},
   "outputs": [],
   "source": [
    "patient_data = {\"PatientName\": \"Sebastian\",\n",
    "               \"PatientID\": \"123\",\n",
    "               \"ImageComments\": \"lorem ipsum\"}\n",
    "\n",
    "save_path = \"img-dicom/xyz.dcm\""
   ]
  },
  {
   "cell_type": "code",
   "execution_count": null,
   "id": "b4cdcd7f-8e98-4bb0-8b73-6b8af978f7bd",
   "metadata": {},
   "outputs": [],
   "source": [
    "save_as_dicom(save_path, whole_reconstruction, patient_data)"
   ]
  },
  {
   "cell_type": "markdown",
   "id": "32db8c55-6ef5-4e18-9e87-c2395c58db25",
   "metadata": {},
   "source": [
    "Odczytywanie pliku dicom."
   ]
  },
  {
   "cell_type": "code",
   "execution_count": null,
   "id": "fda35d19-a0de-4e2d-a618-0f4758f3d95d",
   "metadata": {},
   "outputs": [],
   "source": [
    "read_from_dicom(\"img-dicom/xyz.dcm\")"
   ]
  }
 ],
 "metadata": {
  "kernelspec": {
   "display_name": "Python 3 (ipykernel)",
   "language": "python",
   "name": "python3"
  },
  "language_info": {
   "codemirror_mode": {
    "name": "ipython",
    "version": 3
   },
   "file_extension": ".py",
   "mimetype": "text/x-python",
   "name": "python",
   "nbconvert_exporter": "python",
   "pygments_lexer": "ipython3",
   "version": "3.11.8"
  }
 },
 "nbformat": 4,
 "nbformat_minor": 5
}
