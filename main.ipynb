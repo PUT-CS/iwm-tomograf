{
 "cells": [
  {
   "cell_type": "code",
   "execution_count": 21,
   "id": "758b0c38-da3f-41a7-ad4a-d8b34163057b",
   "metadata": {},
   "outputs": [],
   "source": [
    "from PIL import Image\n",
    "import numpy\n",
    "from sklearn import preprocessing\n",
    "image = Image.open('img/Kropka.jpg')\n",
    "\n",
    "imgMatrix = numpy.asarray(image)\n",
    "\n",
    "reshapedMatrix = imgMatrix.reshape(imgMatrix.shape[0], -1)\n",
    "normalizedMatrix = preprocessing.normalize(reshapedMatrix, norm=\"max\") \n",
    "numpy.savetxt(\"matrix.txt\", normalizedMatrix, fmt=\"%.1f\")"
   ]
  },
  {
   "cell_type": "code",
   "execution_count": null,
   "id": "422320a4-1778-4f08-9d9e-7c4ea7af8b6e",
   "metadata": {},
   "outputs": [],
   "source": []
  },
  {
   "cell_type": "code",
   "execution_count": null,
   "id": "b5556eca-d408-4160-a988-ab6c8d64997d",
   "metadata": {},
   "outputs": [],
   "source": []
  }
 ],
 "metadata": {
  "kernelspec": {
   "display_name": "Python 3 (ipykernel)",
   "language": "python",
   "name": "python3"
  },
  "language_info": {
   "codemirror_mode": {
    "name": "ipython",
    "version": 3
   },
   "file_extension": ".py",
   "mimetype": "text/x-python",
   "name": "python",
   "nbconvert_exporter": "python",
   "pygments_lexer": "ipython3",
   "version": "3.10.12"
  }
 },
 "nbformat": 4,
 "nbformat_minor": 5
}
