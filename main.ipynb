{
 "cells": [
  {
   "cell_type": "markdown",
   "id": "9162dd08-b256-4010-9c6e-d775af50cc57",
   "metadata": {
    "jp-MarkdownHeadingCollapsed": true
   },
   "source": [
    "W pierwszym kroku należy załadować obraz, zmienić go na grayscale, znormalizować a potem zapisac do macierzy żeby zaczać wykonywać na nim operacje."
   ]
  },
  {
   "cell_type": "code",
   "execution_count": 5,
   "id": "758b0c38-da3f-41a7-ad4a-d8b34163057b",
   "metadata": {},
   "outputs": [],
   "source": [
    "from PIL import Image\n",
    "import numpy as np\n",
    "from sklearn import preprocessing\n",
    "import matplotlib.pyplot as plt\n",
    "\n",
    "def loadImage(src):\n",
    "    try:\n",
    "        image = Image.open(src).convert(\"L\")\n",
    "    except IOError:\n",
    "        print(f\"Could not find file: {src}\")\n",
    "        return\n",
    "    imgMatrix = np.asarray(image)\n",
    "    # plotting for debug purpouses\n",
    "    plt.matshow(imgMatrix, cmap=plt.cm.gray)\n",
    "    plt.show()\n",
    "    \n",
    "    return imgMatrix"
   ]
  },
  {
   "cell_type": "code",
   "execution_count": 6,
   "id": "c4954133-643d-4028-bded-7fae5825ef58",
   "metadata": {},
   "outputs": [
    {
     "data": {
      "image/png": "[encoded data removed]",
      "text/plain": [
       "<Figure size 480x480 with 1 Axes>"
      ]
     },
     "metadata": {},
     "output_type": "display_data"
    }
   ],
   "source": [
    "imgMatrix = loadImage(\"img/Kropka.jpg\")"
   ]
  },
  {
   "cell_type": "markdown",
   "id": "e5ae0309-4d1b-47a4-bdf2-e7d658918a20",
   "metadata": {},
   "source": [
    "Następny etap to sinogram."
   ]
  },
  {
   "cell_type": "code",
   "execution_count": 3,
   "id": "afe2d5e7-f152-4d32-856d-2e900a0ab654",
   "metadata": {},
   "outputs": [
    {
     "name": "stdout",
     "output_type": "stream",
     "text": [
      "1 399 0\n",
      "-31 361 1\n",
      "-55 319 2\n",
      "-72 272 3\n",
      "-80 224 4\n",
      "-80 176 5\n",
      "-72 128 6\n",
      "-55 81 7\n",
      "-31 39 8\n",
      "1 1 9\n",
      "\n",
      "-82 200 0\n",
      "-77 152 1\n",
      "-64 104 2\n",
      "-44 60 3\n",
      "-16 19 4\n",
      "19 -16 5\n",
      "59 -44 6\n",
      "104 -64 7\n",
      "152 -77 8\n",
      "200 -82 9\n",
      "\n",
      "1 1 0\n",
      "39 -31 1\n",
      "81 -55 2\n",
      "128 -72 3\n",
      "176 -80 4\n",
      "224 -80 5\n",
      "272 -72 6\n",
      "319 -55 7\n",
      "361 -31 8\n",
      "399 1 9\n",
      "\n",
      "200 -82 0\n",
      "248 -77 1\n",
      "296 -64 2\n",
      "341 -44 3\n",
      "381 -16 4\n",
      "416 19 5\n",
      "444 59 6\n",
      "464 104 7\n",
      "477 152 8\n",
      "482 200 9\n",
      "\n",
      "399 1 0\n",
      "431 39 1\n",
      "455 81 2\n",
      "472 128 3\n",
      "480 176 4\n",
      "480 224 5\n",
      "472 272 6\n",
      "455 319 7\n",
      "431 361 8\n",
      "399 399 9\n",
      "\n"
     ]
    }
   ],
   "source": [
    "import numpy as np\n",
    "\n",
    "def radon_transform(alpha = 45, phi_range = 90, num_detectors = 10, num_iterations = 5, image = imgMatrix):\n",
    "    height, width = image.shape\n",
    "    radius = int(np.sqrt(height**2 + width**2) // 2)\n",
    "    x_offset = width // 2\n",
    "    y_offset = height // 2\n",
    "    phi_rad = np.radians(phi_range)\n",
    "\n",
    "    for i in range(num_iterations):\n",
    "        curr_alpha = i * np.radians(alpha) \n",
    "        xe = int(radius * np.cos(curr_alpha)) + x_offset\n",
    "        ye = int(radius * np.sin(curr_alpha)) + y_offset\n",
    "        \n",
    "        for j in range(num_detectors):\n",
    "            xd = int(radius * np.cos(curr_alpha + np.pi - (phi_rad / 2) + j * phi_rad/(num_detectors-1))) + x_offset\n",
    "            yd = int(radius * np.sin(curr_alpha + np.pi - (phi_rad / 2) + j * phi_rad/(num_detectors-1))) + y_offset\n",
    "            print(xd, yd, j)\n",
    "        print(\"\")\n",
    "\n",
    "radon_transform()"
   ]
  },
  {
   "cell_type": "code",
   "execution_count": null,
   "id": "10535dc1-4235-4c01-99d0-d3816927fd7e",
   "metadata": {},
   "outputs": [],
   "source": []
  }
 ],
 "metadata": {
  "kernelspec": {
   "display_name": "Python 3 (ipykernel)",
   "language": "python",
   "name": "python3"
  },
  "language_info": {
   "codemirror_mode": {
    "name": "ipython",
    "version": 3
   },
   "file_extension": ".py",
   "mimetype": "text/x-python",
   "name": "python",
   "nbconvert_exporter": "python",
   "pygments_lexer": "ipython3",
   "version": "3.11.8"
  }
 },
 "nbformat": 4,
 "nbformat_minor": 5
}
